{
 "cells": [
  {
   "cell_type": "code",
   "execution_count": 1,
   "metadata": {},
   "outputs": [],
   "source": [
    "import numpy as np"
   ]
  },
  {
   "cell_type": "code",
   "execution_count": 2,
   "metadata": {},
   "outputs": [],
   "source": [
    "list1 = np.arange(1,13)"
   ]
  },
  {
   "cell_type": "code",
   "execution_count": 3,
   "metadata": {},
   "outputs": [
    {
     "data": {
      "text/plain": [
       "array([ 1,  2,  3,  4,  5,  6,  7,  8,  9, 10, 11, 12])"
      ]
     },
     "execution_count": 3,
     "metadata": {},
     "output_type": "execute_result"
    }
   ],
   "source": [
    "list1\n"
   ]
  },
  {
   "cell_type": "code",
   "execution_count": 4,
   "metadata": {},
   "outputs": [],
   "source": [
    "N = 6"
   ]
  },
  {
   "cell_type": "markdown",
   "metadata": {},
   "source": [
    "# Vander package in python"
   ]
  },
  {
   "cell_type": "code",
   "execution_count": 6,
   "metadata": {},
   "outputs": [
    {
     "data": {
      "text/plain": [
       "array([[     1,      1,      1,      1,      1,      1],\n",
       "       [     1,      2,      4,      8,     16,     32],\n",
       "       [     1,      3,      9,     27,     81,    243],\n",
       "       [     1,      4,     16,     64,    256,   1024],\n",
       "       [     1,      5,     25,    125,    625,   3125],\n",
       "       [     1,      6,     36,    216,   1296,   7776],\n",
       "       [     1,      7,     49,    343,   2401,  16807],\n",
       "       [     1,      8,     64,    512,   4096,  32768],\n",
       "       [     1,      9,     81,    729,   6561,  59049],\n",
       "       [     1,     10,    100,   1000,  10000, 100000],\n",
       "       [     1,     11,    121,   1331,  14641, 161051],\n",
       "       [     1,     12,    144,   1728,  20736, 248832]])"
      ]
     },
     "execution_count": 6,
     "metadata": {},
     "output_type": "execute_result"
    }
   ],
   "source": [
    "\n",
    "np.vander(list1, N, increasing=True)"
   ]
  },
  {
   "cell_type": "markdown",
   "metadata": {},
   "source": [
    "# Vander matrix function written in python"
   ]
  },
  {
   "cell_type": "code",
   "execution_count": 8,
   "metadata": {},
   "outputs": [],
   "source": [
    "def vander_matrix(element,N):\n",
    "    out  = [] \n",
    "    for i in range(len(element)):\n",
    "        list3 = []\n",
    "        for j in range(0,N):\n",
    "            list3.append(np.power(element[i],j))\n",
    "    \n",
    "        out.append(list3)\n",
    "    return np.array(out)"
   ]
  },
  {
   "cell_type": "code",
   "execution_count": 10,
   "metadata": {},
   "outputs": [],
   "source": [
    "matt_out2 =  vander_matrix(list1,6)"
   ]
  },
  {
   "cell_type": "code",
   "execution_count": 11,
   "metadata": {},
   "outputs": [
    {
     "name": "stdout",
     "output_type": "stream",
     "text": [
      "[[     1      1      1      1      1      1]\n",
      " [     1      2      4      8     16     32]\n",
      " [     1      3      9     27     81    243]\n",
      " [     1      4     16     64    256   1024]\n",
      " [     1      5     25    125    625   3125]\n",
      " [     1      6     36    216   1296   7776]\n",
      " [     1      7     49    343   2401  16807]\n",
      " [     1      8     64    512   4096  32768]\n",
      " [     1      9     81    729   6561  59049]\n",
      " [     1     10    100   1000  10000 100000]\n",
      " [     1     11    121   1331  14641 161051]\n",
      " [     1     12    144   1728  20736 248832]]\n"
     ]
    }
   ],
   "source": [
    "print(matt_out2)"
   ]
  },
  {
   "cell_type": "code",
   "execution_count": null,
   "metadata": {},
   "outputs": [],
   "source": []
  }
 ],
 "metadata": {
  "kernelspec": {
   "display_name": "Python 3",
   "language": "python",
   "name": "python3"
  },
  "language_info": {
   "codemirror_mode": {
    "name": "ipython",
    "version": 3
   },
   "file_extension": ".py",
   "mimetype": "text/x-python",
   "name": "python",
   "nbconvert_exporter": "python",
   "pygments_lexer": "ipython3",
   "version": "3.6.5"
  }
 },
 "nbformat": 4,
 "nbformat_minor": 2
}
